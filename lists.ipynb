{
  "nbformat": 4,
  "nbformat_minor": 0,
  "metadata": {
    "colab": {
      "name": "lists.ipynb",
      "provenance": [],
      "collapsed_sections": [],
      "authorship_tag": "ABX9TyOj28nhqMMnPBkiaiFO/qVl",
      "include_colab_link": true
    },
    "kernelspec": {
      "name": "python3",
      "display_name": "Python 3"
    }
  },
  "cells": [
    {
      "cell_type": "markdown",
      "metadata": {
        "id": "view-in-github",
        "colab_type": "text"
      },
      "source": [
        "<a href=\"https://colab.research.google.com/github/niranjmani/Nira_Public_Projects/blob/Python/lists.ipynb\" target=\"_parent\"><img src=\"https://colab.research.google.com/assets/colab-badge.svg\" alt=\"Open In Colab\"/></a>"
      ]
    },
    {
      "cell_type": "code",
      "metadata": {
        "id": "H_Di1ha9LhEM",
        "colab_type": "code",
        "colab": {
          "base_uri": "https://localhost:8080/",
          "height": 34
        },
        "outputId": "4bd4ffb4-4c5b-4338-87de-ab7dffc073cd"
      },
      "source": [
        "a = [6,3,34.5,True,\"Hello\"]\n",
        "print(type(a))"
      ],
      "execution_count": 2,
      "outputs": [
        {
          "output_type": "stream",
          "text": [
            "<class 'list'>\n"
          ],
          "name": "stdout"
        }
      ]
    },
    {
      "cell_type": "code",
      "metadata": {
        "id": "Pncgim_6My1Y",
        "colab_type": "code",
        "colab": {
          "base_uri": "https://localhost:8080/",
          "height": 86
        },
        "outputId": "62de837c-04dc-4bcf-c9ec-8f6ad57d4747"
      },
      "source": [
        "print(a[0])\n",
        "print(a[-1])\n",
        "print(len(a))\n",
        "print(a[2:4])\n"
      ],
      "execution_count": 5,
      "outputs": [
        {
          "output_type": "stream",
          "text": [
            "6\n",
            "Hello\n",
            "5\n",
            "[34.5, True]\n"
          ],
          "name": "stdout"
        }
      ]
    },
    {
      "cell_type": "code",
      "metadata": {
        "id": "oSHHuYNANGGU",
        "colab_type": "code",
        "colab": {
          "base_uri": "https://localhost:8080/",
          "height": 34
        },
        "outputId": "a8ba258e-f4d8-4bb9-d3df-5bc83f5b90e1"
      },
      "source": [
        "a.append(23234)\n",
        "print(a)"
      ],
      "execution_count": 6,
      "outputs": [
        {
          "output_type": "stream",
          "text": [
            "[6, 3, 34.5, True, 'Hello', 23234]\n"
          ],
          "name": "stdout"
        }
      ]
    },
    {
      "cell_type": "code",
      "metadata": {
        "id": "3DL9K9JUNNy7",
        "colab_type": "code",
        "colab": {
          "base_uri": "https://localhost:8080/",
          "height": 34
        },
        "outputId": "1445f3a2-bd0c-428e-a403-be1072af2cc0"
      },
      "source": [
        "a.pop()\n",
        "print(a)"
      ],
      "execution_count": 7,
      "outputs": [
        {
          "output_type": "stream",
          "text": [
            "[6, 3, 34.5, True, 'Hello']\n"
          ],
          "name": "stdout"
        }
      ]
    },
    {
      "cell_type": "code",
      "metadata": {
        "id": "wukK2QYTNVDF",
        "colab_type": "code",
        "colab": {
          "base_uri": "https://localhost:8080/",
          "height": 34
        },
        "outputId": "47807a3b-aed1-4079-92de-9d17cd7a7850"
      },
      "source": [
        "a.pop(1)\n",
        "print(a)"
      ],
      "execution_count": 8,
      "outputs": [
        {
          "output_type": "stream",
          "text": [
            "[6, 34.5, True, 'Hello']\n"
          ],
          "name": "stdout"
        }
      ]
    },
    {
      "cell_type": "code",
      "metadata": {
        "id": "qzJrJjZlNba8",
        "colab_type": "code",
        "colab": {
          "base_uri": "https://localhost:8080/",
          "height": 34
        },
        "outputId": "6deee0f6-9359-46f8-97a7-8ff343867357"
      },
      "source": [
        "a.remove(34.5)\n",
        "print(a)"
      ],
      "execution_count": 9,
      "outputs": [
        {
          "output_type": "stream",
          "text": [
            "[6, True, 'Hello']\n"
          ],
          "name": "stdout"
        }
      ]
    },
    {
      "cell_type": "code",
      "metadata": {
        "id": "yRTmNDv3NhpP",
        "colab_type": "code",
        "colab": {
          "base_uri": "https://localhost:8080/",
          "height": 34
        },
        "outputId": "897c224d-b04e-4cef-cab5-586ce2016466"
      },
      "source": [
        "a.insert(1,\"Hello\")\n",
        "print(a)\n"
      ],
      "execution_count": 10,
      "outputs": [
        {
          "output_type": "stream",
          "text": [
            "[6, 'Hello', True, 'Hello']\n"
          ],
          "name": "stdout"
        }
      ]
    },
    {
      "cell_type": "code",
      "metadata": {
        "id": "4yOOnoFtNrkg",
        "colab_type": "code",
        "colab": {
          "base_uri": "https://localhost:8080/",
          "height": 34
        },
        "outputId": "b859593c-9b95-4c7e-8d40-99dd4d6f21fd"
      },
      "source": [
        "a.reverse()\n",
        "print(a)\n"
      ],
      "execution_count": 15,
      "outputs": [
        {
          "output_type": "stream",
          "text": [
            "['Hello', True, 'Hello', 6]\n"
          ],
          "name": "stdout"
        }
      ]
    },
    {
      "cell_type": "code",
      "metadata": {
        "id": "IIRnXiOLOEA3",
        "colab_type": "code",
        "colab": {
          "base_uri": "https://localhost:8080/",
          "height": 34
        },
        "outputId": "01e62773-05c4-4f3f-9b7c-d77269b52789"
      },
      "source": [
        "a = [34,77,3,57,325,743,22,6867643,233,3323,2324325]\n",
        "a.sort()\n",
        "print(a)\n"
      ],
      "execution_count": 17,
      "outputs": [
        {
          "output_type": "stream",
          "text": [
            "[3, 22, 34, 57, 77, 233, 325, 743, 3323, 2324325, 6867643]\n"
          ],
          "name": "stdout"
        }
      ]
    },
    {
      "cell_type": "code",
      "metadata": {
        "id": "fFBB_BpBOY3T",
        "colab_type": "code",
        "colab": {
          "base_uri": "https://localhost:8080/",
          "height": 34
        },
        "outputId": "6de6ed0f-166c-458b-e70c-2933df59461e"
      },
      "source": [
        "g = 325325\n",
        "h = g\n",
        "print(g,h)"
      ],
      "execution_count": 18,
      "outputs": [
        {
          "output_type": "stream",
          "text": [
            "325325 325325\n"
          ],
          "name": "stdout"
        }
      ]
    },
    {
      "cell_type": "code",
      "metadata": {
        "id": "SiNCO7AzOkwD",
        "colab_type": "code",
        "colab": {
          "base_uri": "https://localhost:8080/",
          "height": 34
        },
        "outputId": "437ce7b7-5ce3-4ddf-a7db-1b99161f9bac"
      },
      "source": [
        "h=34543545\n",
        "print(g,h)"
      ],
      "execution_count": 19,
      "outputs": [
        {
          "output_type": "stream",
          "text": [
            "325325 34543545\n"
          ],
          "name": "stdout"
        }
      ]
    },
    {
      "cell_type": "code",
      "metadata": {
        "id": "1jUIVRExOs_s",
        "colab_type": "code",
        "colab": {
          "base_uri": "https://localhost:8080/",
          "height": 34
        },
        "outputId": "82b7fc2f-bfeb-4ff9-8ea1-52cd18762d47"
      },
      "source": [
        "print(a)\n"
      ],
      "execution_count": 20,
      "outputs": [
        {
          "output_type": "stream",
          "text": [
            "[3, 22, 34, 57, 77, 233, 325, 743, 3323, 2324325, 6867643]\n"
          ],
          "name": "stdout"
        }
      ]
    },
    {
      "cell_type": "code",
      "metadata": {
        "id": "MHK7xdR3O3DR",
        "colab_type": "code",
        "colab": {
          "base_uri": "https://localhost:8080/",
          "height": 34
        },
        "outputId": "afb8c1f9-a0de-46fb-e976-d94d11d25e5c"
      },
      "source": [
        "b=a\n",
        "print(b)"
      ],
      "execution_count": 21,
      "outputs": [
        {
          "output_type": "stream",
          "text": [
            "[3, 22, 34, 57, 77, 233, 325, 743, 3323, 2324325, 6867643]\n"
          ],
          "name": "stdout"
        }
      ]
    },
    {
      "cell_type": "code",
      "metadata": {
        "id": "Se12CEgJO8Xi",
        "colab_type": "code",
        "colab": {
          "base_uri": "https://localhost:8080/",
          "height": 34
        },
        "outputId": "7a0f5fb4-b5ce-417d-f982-b0bf9353e471"
      },
      "source": [
        "b.clear()\n",
        "print(b)"
      ],
      "execution_count": 22,
      "outputs": [
        {
          "output_type": "stream",
          "text": [
            "[]\n"
          ],
          "name": "stdout"
        }
      ]
    },
    {
      "cell_type": "code",
      "metadata": {
        "id": "Y1c-cI7WPCQX",
        "colab_type": "code",
        "colab": {
          "base_uri": "https://localhost:8080/",
          "height": 34
        },
        "outputId": "0e54a5ee-1ec1-4ff3-e278-ad27d65a7544"
      },
      "source": [
        "print(a)"
      ],
      "execution_count": 23,
      "outputs": [
        {
          "output_type": "stream",
          "text": [
            "[]\n"
          ],
          "name": "stdout"
        }
      ]
    },
    {
      "cell_type": "markdown",
      "metadata": {
        "id": "UFx7l-pRPKMQ",
        "colab_type": "text"
      },
      "source": [
        "b simpy references a. it does not copy the elements into separate variable b\n",
        "so when we clear b it empties a as b refernces a"
      ]
    },
    {
      "cell_type": "code",
      "metadata": {
        "id": "O7Mnub_QPaHc",
        "colab_type": "code",
        "colab": {
          "base_uri": "https://localhost:8080/",
          "height": 34
        },
        "outputId": "53d9ef38-535e-4003-8207-23b514524934"
      },
      "source": [
        "a=[3, 22, 34, 57, 77, 233, 325, 743, 3323, 2324325, 6867643]\n",
        "print(a)"
      ],
      "execution_count": 24,
      "outputs": [
        {
          "output_type": "stream",
          "text": [
            "[3, 22, 34, 57, 77, 233, 325, 743, 3323, 2324325, 6867643]\n"
          ],
          "name": "stdout"
        }
      ]
    },
    {
      "cell_type": "code",
      "metadata": {
        "id": "hVVR0-lpPs7U",
        "colab_type": "code",
        "colab": {
          "base_uri": "https://localhost:8080/",
          "height": 34
        },
        "outputId": "b78d71ad-e7d3-4aca-b471-0a9fb338c44f"
      },
      "source": [
        "b= a.copy()\n",
        "print(b)"
      ],
      "execution_count": 25,
      "outputs": [
        {
          "output_type": "stream",
          "text": [
            "[3, 22, 34, 57, 77, 233, 325, 743, 3323, 2324325, 6867643]\n"
          ],
          "name": "stdout"
        }
      ]
    },
    {
      "cell_type": "code",
      "metadata": {
        "id": "nZxDv5ViP4zG",
        "colab_type": "code",
        "colab": {
          "base_uri": "https://localhost:8080/",
          "height": 52
        },
        "outputId": "f62e8440-2e89-4a25-a2e9-6d81329213e2"
      },
      "source": [
        "b.clear()\n",
        "print(b)\n",
        "print(a)\n"
      ],
      "execution_count": 26,
      "outputs": [
        {
          "output_type": "stream",
          "text": [
            "[]\n",
            "[3, 22, 34, 57, 77, 233, 325, 743, 3323, 2324325, 6867643]\n"
          ],
          "name": "stdout"
        }
      ]
    },
    {
      "cell_type": "code",
      "metadata": {
        "id": "qdMeqppkQIbV",
        "colab_type": "code",
        "colab": {
          "base_uri": "https://localhost:8080/",
          "height": 52
        },
        "outputId": "41f90b19-a7e6-431a-ba7e-f5474259cf6f"
      },
      "source": [
        "a = [4,6,2]\n",
        "print(a)\n",
        "a=a+a\n",
        "print(a)"
      ],
      "execution_count": 27,
      "outputs": [
        {
          "output_type": "stream",
          "text": [
            "[4, 6, 2]\n",
            "[4, 6, 2, 4, 6, 2]\n"
          ],
          "name": "stdout"
        }
      ]
    },
    {
      "cell_type": "code",
      "metadata": {
        "id": "fQIs37IPQVUl",
        "colab_type": "code",
        "colab": {
          "base_uri": "https://localhost:8080/",
          "height": 34
        },
        "outputId": "f43edc88-0516-4de0-8c15-84033b65e616"
      },
      "source": [
        "a.extend(a)\n",
        "print(a)"
      ],
      "execution_count": 28,
      "outputs": [
        {
          "output_type": "stream",
          "text": [
            "[4, 6, 2, 4, 6, 2, 4, 6, 2, 4, 6, 2]\n"
          ],
          "name": "stdout"
        }
      ]
    },
    {
      "cell_type": "code",
      "metadata": {
        "id": "RJStUM6LQdJ9",
        "colab_type": "code",
        "colab": {
          "base_uri": "https://localhost:8080/",
          "height": 52
        },
        "outputId": "862c0b4f-aa4f-40c3-c962-da3c9e6d46cd"
      },
      "source": [
        "d = [564]\n",
        "print(d)\n",
        "d = d * 6\n",
        "print(d)"
      ],
      "execution_count": 31,
      "outputs": [
        {
          "output_type": "stream",
          "text": [
            "[564]\n",
            "[564, 564, 564, 564, 564, 564]\n"
          ],
          "name": "stdout"
        }
      ]
    },
    {
      "cell_type": "code",
      "metadata": {
        "id": "0YpAvBZ0Q7Yu",
        "colab_type": "code",
        "colab": {
          "base_uri": "https://localhost:8080/",
          "height": 224
        },
        "outputId": "0a68f83d-b33c-4d64-ddc4-917e9201c46b"
      },
      "source": [
        "for i in a:\n",
        "  print(i)"
      ],
      "execution_count": 32,
      "outputs": [
        {
          "output_type": "stream",
          "text": [
            "4\n",
            "6\n",
            "2\n",
            "4\n",
            "6\n",
            "2\n",
            "4\n",
            "6\n",
            "2\n",
            "4\n",
            "6\n",
            "2\n"
          ],
          "name": "stdout"
        }
      ]
    }
  ]
}