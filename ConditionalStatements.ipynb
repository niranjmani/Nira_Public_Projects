{
  "nbformat": 4,
  "nbformat_minor": 0,
  "metadata": {
    "colab": {
      "name": "ConditionalStatements.ipynb",
      "provenance": [],
      "collapsed_sections": [],
      "authorship_tag": "ABX9TyPJKBjKsrJpyBQiMfSJ5XY6",
      "include_colab_link": true
    },
    "kernelspec": {
      "name": "python3",
      "display_name": "Python 3"
    }
  },
  "cells": [
    {
      "cell_type": "markdown",
      "metadata": {
        "id": "view-in-github",
        "colab_type": "text"
      },
      "source": [
        "<a href=\"https://colab.research.google.com/github/niranjmani/Nira_Public_Projects/blob/Python/ConditionalStatements.ipynb\" target=\"_parent\"><img src=\"https://colab.research.google.com/assets/colab-badge.svg\" alt=\"Open In Colab\"/></a>"
      ]
    },
    {
      "cell_type": "code",
      "metadata": {
        "id": "0_eAS-QMAnXz",
        "colab_type": "code",
        "colab": {
          "base_uri": "https://localhost:8080/",
          "height": 34
        },
        "outputId": "6b8f6722-a1ec-4561-dc44-97a9294090ca"
      },
      "source": [
        "a=7\n",
        "b=9\n",
        "if a>b:\n",
        "  print(\"A is Greater\")\n",
        "elif b>a:\n",
        "  print(\"B is Greater\")\n",
        "else:\n",
        "  print(\"A equals B\")"
      ],
      "execution_count": 1,
      "outputs": [
        {
          "output_type": "stream",
          "text": [
            "B is Greater\n"
          ],
          "name": "stdout"
        }
      ]
    },
    {
      "cell_type": "code",
      "metadata": {
        "id": "RkMhgihWCQV-",
        "colab_type": "code",
        "colab": {
          "base_uri": "https://localhost:8080/",
          "height": 34
        },
        "outputId": "28390751-07f8-4926-e771-dc6edba8f9f8"
      },
      "source": [
        "a=17\n",
        "b=9\n",
        "if a>b:\n",
        "  print(\"A is Greater\")\n",
        "elif b>a:\n",
        "  print(\"B is Greater\")\n",
        "else:\n",
        "  print(\"A equals B\")"
      ],
      "execution_count": 2,
      "outputs": [
        {
          "output_type": "stream",
          "text": [
            "A is Greater\n"
          ],
          "name": "stdout"
        }
      ]
    },
    {
      "cell_type": "code",
      "metadata": {
        "id": "WsjZDuhyCYLK",
        "colab_type": "code",
        "colab": {
          "base_uri": "https://localhost:8080/",
          "height": 69
        },
        "outputId": "29cb7dcc-848c-4a1f-ec72-c299a12930e2"
      },
      "source": [
        "print(a>b)\n",
        "print(b>a)\n",
        "print(a==b)"
      ],
      "execution_count": 4,
      "outputs": [
        {
          "output_type": "stream",
          "text": [
            "True\n",
            "False\n",
            "False\n"
          ],
          "name": "stdout"
        }
      ]
    },
    {
      "cell_type": "code",
      "metadata": {
        "id": "h6xm7rczCuvZ",
        "colab_type": "code",
        "colab": {
          "base_uri": "https://localhost:8080/",
          "height": 34
        },
        "outputId": "805329c0-fbcd-4449-eeab-5e843a58fd57"
      },
      "source": [
        "if True:\n",
        "  print(\"HI\")\n",
        "if False:\n",
        "  print(\"Hello\")"
      ],
      "execution_count": 7,
      "outputs": [
        {
          "output_type": "stream",
          "text": [
            "HI\n"
          ],
          "name": "stdout"
        }
      ]
    },
    {
      "cell_type": "code",
      "metadata": {
        "id": "v3niKLy_C_s-",
        "colab_type": "code",
        "colab": {
          "base_uri": "https://localhost:8080/",
          "height": 34
        },
        "outputId": "ef739e61-3da0-4652-d124-85a7ff47ade2"
      },
      "source": [
        "if True:\n",
        "  print(\"HI\")\n",
        "elif True:\n",
        "  print(\"2\")\n",
        "elif False:\n",
        "  print(\"3\")\n",
        "else:\n",
        "  print(\"4\")"
      ],
      "execution_count": 9,
      "outputs": [
        {
          "output_type": "stream",
          "text": [
            "HI\n"
          ],
          "name": "stdout"
        }
      ]
    },
    {
      "cell_type": "code",
      "metadata": {
        "id": "Ouq53OaDEDX4",
        "colab_type": "code",
        "colab": {
          "base_uri": "https://localhost:8080/",
          "height": 34
        },
        "outputId": "6ee360c5-6d28-41c4-8e8c-28e6ed7d05e5"
      },
      "source": [
        "if False:\n",
        "  print(\"HI\")\n",
        "elif True:\n",
        "  print(\"2\")\n",
        "elif False:\n",
        "  print(\"3\")\n",
        "else:\n",
        "  print(\"4\")"
      ],
      "execution_count": 10,
      "outputs": [
        {
          "output_type": "stream",
          "text": [
            "2\n"
          ],
          "name": "stdout"
        }
      ]
    },
    {
      "cell_type": "code",
      "metadata": {
        "id": "442S1tAfEePp",
        "colab_type": "code",
        "colab": {
          "base_uri": "https://localhost:8080/",
          "height": 69
        },
        "outputId": "529dde69-6889-48dd-e3b9-f6ca4b7b2230"
      },
      "source": [
        "if True:\n",
        "  print(\"HI\")\n",
        "  print(\"HIIII\")\n",
        "if True:\n",
        "  print(\"2\")\n",
        "elif False:\n",
        "  print(\"3\")\n",
        "else:\n",
        "  print(\"4\")"
      ],
      "execution_count": 12,
      "outputs": [
        {
          "output_type": "stream",
          "text": [
            "HI\n",
            "HIIII\n",
            "2\n"
          ],
          "name": "stdout"
        }
      ]
    },
    {
      "cell_type": "code",
      "metadata": {
        "id": "IotBJTWsEh-u",
        "colab_type": "code",
        "colab": {
          "base_uri": "https://localhost:8080/",
          "height": 104
        },
        "outputId": "a5812ec9-7349-4408-f9b7-463a4382a5cb"
      },
      "source": [
        "print(3>3)\n",
        "print(3>=3)\n",
        "print(3==3)\n",
        "print(3<=3)\n",
        "print(3!=3)"
      ],
      "execution_count": 13,
      "outputs": [
        {
          "output_type": "stream",
          "text": [
            "False\n",
            "True\n",
            "True\n",
            "True\n",
            "False\n"
          ],
          "name": "stdout"
        }
      ]
    },
    {
      "cell_type": "code",
      "metadata": {
        "id": "bTuyJWBMFaON",
        "colab_type": "code",
        "colab": {
          "base_uri": "https://localhost:8080/",
          "height": 34
        },
        "outputId": "919836e7-fb8f-4e1b-a69d-19d9098848e3"
      },
      "source": [
        "a = 9\n",
        "b = 8\n",
        "c = 7\n",
        "if a+b>c and b+c>a and a+c>b:\n",
        "  print(\"Triangle can be formed\")\n",
        "else:\n",
        "  print(\"triangle Cannot be formed\")"
      ],
      "execution_count": 14,
      "outputs": [
        {
          "output_type": "stream",
          "text": [
            "Triangle can be formed\n"
          ],
          "name": "stdout"
        }
      ]
    },
    {
      "cell_type": "code",
      "metadata": {
        "id": "HOM39nqYGIqC",
        "colab_type": "code",
        "colab": {
          "base_uri": "https://localhost:8080/",
          "height": 34
        },
        "outputId": "cce2c909-59f9-4a74-fbd7-e6a5eb60445b"
      },
      "source": [
        "a = 1\n",
        "b = 8\n",
        "c = 7\n",
        "if a+b>c and b+c>a and a+c>b:\n",
        "  print(\"Triangle can be formed\")\n",
        "else:\n",
        "  print(\"triangle Cannot be formed\")"
      ],
      "execution_count": 15,
      "outputs": [
        {
          "output_type": "stream",
          "text": [
            "triangle Cannot be formed\n"
          ],
          "name": "stdout"
        }
      ]
    },
    {
      "cell_type": "code",
      "metadata": {
        "id": "isvdG9cVGYUc",
        "colab_type": "code",
        "colab": {
          "base_uri": "https://localhost:8080/",
          "height": 86
        },
        "outputId": "3ab4c498-7db8-48a5-a53e-54c0fb1ac078"
      },
      "source": [
        "print(False or False)\n",
        "print(False or True)\n",
        "print(True or False)\n",
        "print(True or True)"
      ],
      "execution_count": 16,
      "outputs": [
        {
          "output_type": "stream",
          "text": [
            "False\n",
            "True\n",
            "True\n",
            "True\n"
          ],
          "name": "stdout"
        }
      ]
    },
    {
      "cell_type": "code",
      "metadata": {
        "id": "CNh74znwG3Ye",
        "colab_type": "code",
        "colab": {
          "base_uri": "https://localhost:8080/",
          "height": 86
        },
        "outputId": "606e5d36-bc8a-430d-e44f-d7d5cc165388"
      },
      "source": [
        "print(False and False)\n",
        "print(False and True)\n",
        "print(True and False)\n",
        "print(True and True)"
      ],
      "execution_count": 17,
      "outputs": [
        {
          "output_type": "stream",
          "text": [
            "False\n",
            "False\n",
            "False\n",
            "True\n"
          ],
          "name": "stdout"
        }
      ]
    },
    {
      "cell_type": "code",
      "metadata": {
        "id": "MgazV1xYHQFV",
        "colab_type": "code",
        "colab": {}
      },
      "source": [
        ""
      ],
      "execution_count": 0,
      "outputs": []
    }
  ]
}