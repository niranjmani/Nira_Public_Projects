{
  "nbformat": 4,
  "nbformat_minor": 0,
  "metadata": {
    "colab": {
      "name": "loops.ipynb",
      "provenance": [],
      "collapsed_sections": [],
      "authorship_tag": "ABX9TyO2ro0iE8ZryHjgMmoFuofx",
      "include_colab_link": true
    },
    "kernelspec": {
      "name": "python3",
      "display_name": "Python 3"
    }
  },
  "cells": [
    {
      "cell_type": "markdown",
      "metadata": {
        "id": "view-in-github",
        "colab_type": "text"
      },
      "source": [
        "<a href=\"https://colab.research.google.com/github/niranjmani/Nira_Public_Projects/blob/Python/loops.ipynb\" target=\"_parent\"><img src=\"https://colab.research.google.com/assets/colab-badge.svg\" alt=\"Open In Colab\"/></a>"
      ]
    },
    {
      "cell_type": "markdown",
      "metadata": {
        "id": "sPKS18rRHoKd",
        "colab_type": "text"
      },
      "source": [
        "Loops available in python\n",
        "\n",
        "1.While loop\n",
        "2. For loop"
      ]
    },
    {
      "cell_type": "code",
      "metadata": {
        "id": "vNCAiyFmH1Dm",
        "colab_type": "code",
        "colab": {
          "base_uri": "https://localhost:8080/",
          "height": 207
        },
        "outputId": "4b0b0ee0-9952-4979-cddc-134e70f17db2"
      },
      "source": [
        "i = 0\n",
        "while(i<10):\n",
        "  print(\"Niranjana\")\n",
        "  i= i+1;\n",
        "print(\"Work Done\")"
      ],
      "execution_count": 3,
      "outputs": [
        {
          "output_type": "stream",
          "text": [
            "Niranjana\n",
            "Niranjana\n",
            "Niranjana\n",
            "Niranjana\n",
            "Niranjana\n",
            "Niranjana\n",
            "Niranjana\n",
            "Niranjana\n",
            "Niranjana\n",
            "Niranjana\n",
            "Work Done\n"
          ],
          "name": "stdout"
        }
      ]
    },
    {
      "cell_type": "markdown",
      "metadata": {
        "id": "T7lcfGnQIaro",
        "colab_type": "text"
      },
      "source": [
        "While loop\n",
        "Initialize\n",
        "Condition\n",
        "Increement"
      ]
    },
    {
      "cell_type": "code",
      "metadata": {
        "id": "CGS0o4rkIhR7",
        "colab_type": "code",
        "colab": {
          "base_uri": "https://localhost:8080/",
          "height": 138
        },
        "outputId": "58a62e78-1933-488f-9418-3c495755ef45"
      },
      "source": [
        "for i in range(7):\n",
        "  print(\"Niranjana\", i)"
      ],
      "execution_count": 10,
      "outputs": [
        {
          "output_type": "stream",
          "text": [
            "Niranjana 0\n",
            "Niranjana 1\n",
            "Niranjana 2\n",
            "Niranjana 3\n",
            "Niranjana 4\n",
            "Niranjana 5\n",
            "Niranjana 6\n"
          ],
          "name": "stdout"
        }
      ]
    },
    {
      "cell_type": "markdown",
      "metadata": {
        "id": "PqLDRnMmJif0",
        "colab_type": "text"
      },
      "source": [
        "range(7)= [0,1,2,3,4,5,6]"
      ]
    },
    {
      "cell_type": "code",
      "metadata": {
        "id": "7f_iNVpwJpfS",
        "colab_type": "code",
        "colab": {
          "base_uri": "https://localhost:8080/",
          "height": 138
        },
        "outputId": "10515d2e-80f0-43bb-d448-72a22b317821"
      },
      "source": [
        "for i in [0,1,2,3,4,5,6]:\n",
        "  print(\"Niranjana\", i)"
      ],
      "execution_count": 9,
      "outputs": [
        {
          "output_type": "stream",
          "text": [
            "Niranjana 0\n",
            "Niranjana 1\n",
            "Niranjana 2\n",
            "Niranjana 3\n",
            "Niranjana 4\n",
            "Niranjana 5\n",
            "Niranjana 6\n"
          ],
          "name": "stdout"
        }
      ]
    },
    {
      "cell_type": "code",
      "metadata": {
        "id": "B4TMZ6sdKQba",
        "colab_type": "code",
        "colab": {
          "base_uri": "https://localhost:8080/",
          "height": 173
        },
        "outputId": "9450d8a5-4641-4698-c2b1-1bd2343c2b90"
      },
      "source": [
        "for i in \"Niranjana\":\n",
        "  print(\"Hi\")\n"
      ],
      "execution_count": 13,
      "outputs": [
        {
          "output_type": "stream",
          "text": [
            "Hi\n",
            "Hi\n",
            "Hi\n",
            "Hi\n",
            "Hi\n",
            "Hi\n",
            "Hi\n",
            "Hi\n",
            "Hi\n"
          ],
          "name": "stdout"
        }
      ]
    },
    {
      "cell_type": "code",
      "metadata": {
        "id": "7_DizMOiKqF8",
        "colab_type": "code",
        "colab": {
          "base_uri": "https://localhost:8080/",
          "height": 190
        },
        "outputId": "7d335fa8-9e8a-4443-e014-03243fa00c57"
      },
      "source": [
        "for i in range(10):\n",
        "  print(i)"
      ],
      "execution_count": 14,
      "outputs": [
        {
          "output_type": "stream",
          "text": [
            "0\n",
            "1\n",
            "2\n",
            "3\n",
            "4\n",
            "5\n",
            "6\n",
            "7\n",
            "8\n",
            "9\n"
          ],
          "name": "stdout"
        }
      ]
    },
    {
      "cell_type": "code",
      "metadata": {
        "id": "DWsr68uRKye3",
        "colab_type": "code",
        "colab": {
          "base_uri": "https://localhost:8080/",
          "height": 363
        },
        "outputId": "0ac88706-21bb-40aa-f7bb-a35dac32a3eb"
      },
      "source": [
        "for i in range(-10,10):\n",
        "  print(i)"
      ],
      "execution_count": 17,
      "outputs": [
        {
          "output_type": "stream",
          "text": [
            "-10\n",
            "-9\n",
            "-8\n",
            "-7\n",
            "-6\n",
            "-5\n",
            "-4\n",
            "-3\n",
            "-2\n",
            "-1\n",
            "0\n",
            "1\n",
            "2\n",
            "3\n",
            "4\n",
            "5\n",
            "6\n",
            "7\n",
            "8\n",
            "9\n"
          ],
          "name": "stdout"
        }
      ]
    },
    {
      "cell_type": "code",
      "metadata": {
        "id": "4dcPPirhK9Ya",
        "colab_type": "code",
        "colab": {
          "base_uri": "https://localhost:8080/",
          "height": 138
        },
        "outputId": "20f13e90-d662-46a2-85d5-b4950fc85a29"
      },
      "source": [
        "for i in range(-10,10,3):\n",
        "  print(i)"
      ],
      "execution_count": 18,
      "outputs": [
        {
          "output_type": "stream",
          "text": [
            "-10\n",
            "-7\n",
            "-4\n",
            "-1\n",
            "2\n",
            "5\n",
            "8\n"
          ],
          "name": "stdout"
        }
      ]
    }
  ]
}