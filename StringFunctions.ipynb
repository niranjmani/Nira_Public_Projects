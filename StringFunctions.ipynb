{
  "nbformat": 4,
  "nbformat_minor": 0,
  "metadata": {
    "colab": {
      "name": "Untitled1.ipynb",
      "provenance": [],
      "collapsed_sections": [],
      "authorship_tag": "ABX9TyPk+69Ty8iAOB6JNJycBqYg",
      "include_colab_link": true
    },
    "kernelspec": {
      "name": "python3",
      "display_name": "Python 3"
    }
  },
  "cells": [
    {
      "cell_type": "markdown",
      "metadata": {
        "id": "view-in-github",
        "colab_type": "text"
      },
      "source": [
        "<a href=\"https://colab.research.google.com/github/niranjmani/Nira_Public_Projects/blob/Python/StringFunctions.ipynb\" target=\"_parent\"><img src=\"https://colab.research.google.com/assets/colab-badge.svg\" alt=\"Open In Colab\"/></a>"
      ]
    },
    {
      "cell_type": "code",
      "metadata": {
        "id": "F538FTyA6_IU",
        "colab_type": "code",
        "colab": {
          "base_uri": "https://localhost:8080/",
          "height": 121
        },
        "outputId": "33cb79f4-201b-4c02-a27f-5efd86a75dcc"
      },
      "source": [
        "a = \"Hello World\"\n",
        "print(a[0]);\n",
        "print(a[-1])\n",
        "print(a[1:3])\n",
        "print(a[:5])\n",
        "print(a[7:])\n",
        "print(a[::-1])"
      ],
      "execution_count": 6,
      "outputs": [
        {
          "output_type": "stream",
          "text": [
            "H\n",
            "d\n",
            "el\n",
            "Hello\n",
            "orld\n",
            "dlroW olleH\n"
          ],
          "name": "stdout"
        }
      ]
    },
    {
      "cell_type": "code",
      "metadata": {
        "id": "R2_XQQIg748i",
        "colab_type": "code",
        "colab": {
          "base_uri": "https://localhost:8080/",
          "height": 34
        },
        "outputId": "df14c308-3cca-4c89-989d-d67f49fa8bf2"
      },
      "source": [
        "a= \"Hello\"\n",
        "b=\"World\"\n",
        "c= a+b\n",
        "print(c)\n"
      ],
      "execution_count": 7,
      "outputs": [
        {
          "output_type": "stream",
          "text": [
            "HelloWorld\n"
          ],
          "name": "stdout"
        }
      ]
    },
    {
      "cell_type": "markdown",
      "metadata": {
        "id": "28IJ3zpe8OfE",
        "colab_type": "text"
      },
      "source": [
        ""
      ]
    },
    {
      "cell_type": "code",
      "metadata": {
        "id": "LUoMmwwD8C9J",
        "colab_type": "code",
        "colab": {
          "base_uri": "https://localhost:8080/",
          "height": 52
        },
        "outputId": "f02c6d27-1661-4a34-c6cf-ece45bc1112e"
      },
      "source": [
        "print(a+a)\n",
        "print(a*6)"
      ],
      "execution_count": 9,
      "outputs": [
        {
          "output_type": "stream",
          "text": [
            "HelloHello\n",
            "HelloHelloHelloHelloHelloHello\n"
          ],
          "name": "stdout"
        }
      ]
    },
    {
      "cell_type": "code",
      "metadata": {
        "id": "Vo08VRd18RkG",
        "colab_type": "code",
        "colab": {
          "base_uri": "https://localhost:8080/",
          "height": 52
        },
        "outputId": "70a8e8e9-3d4e-4217-93b8-34f09249c082"
      },
      "source": [
        "a= \"my age is\"\n",
        "b=25\n",
        "print(a+str(b))\n",
        "print(a,b)"
      ],
      "execution_count": 15,
      "outputs": [
        {
          "output_type": "stream",
          "text": [
            "my age is25\n",
            "my age is 25\n"
          ],
          "name": "stdout"
        }
      ]
    },
    {
      "cell_type": "code",
      "metadata": {
        "id": "Fm96t9eO80ak",
        "colab_type": "code",
        "colab": {
          "base_uri": "https://localhost:8080/",
          "height": 34
        },
        "outputId": "fd090dd4-68c8-4b3a-f7fb-452da0fa48bd"
      },
      "source": [
        "a= \"my age is {}, {}, {}\"\n",
        "b=25\n",
        "c=a.format(b,43543,43543)\n",
        "print(c)"
      ],
      "execution_count": 17,
      "outputs": [
        {
          "output_type": "stream",
          "text": [
            "my age is 25, 43543, 43543\n"
          ],
          "name": "stdout"
        }
      ]
    },
    {
      "cell_type": "code",
      "metadata": {
        "id": "9FCGiwVQ9Na1",
        "colab_type": "code",
        "colab": {
          "base_uri": "https://localhost:8080/",
          "height": 34
        },
        "outputId": "1a993290-7dea-4917-8c70-d1f75947cca5"
      },
      "source": [
        "print(\"my age is {}\".format(46))\n"
      ],
      "execution_count": 20,
      "outputs": [
        {
          "output_type": "stream",
          "text": [
            "my age is 46\n"
          ],
          "name": "stdout"
        }
      ]
    },
    {
      "cell_type": "code",
      "metadata": {
        "id": "a06iief99i-u",
        "colab_type": "code",
        "colab": {
          "base_uri": "https://localhost:8080/",
          "height": 104
        },
        "outputId": "9c71df4a-a721-40ef-80d9-67f517023f9c"
      },
      "source": [
        "a= \"my name is \\\"niranjana\\\"\"\n",
        "print(a)\n",
        "print(\"hello \\nWorld\")\n",
        "print(\"hello \\aWorld\")\n",
        "print(\"hello \\bWorld\")"
      ],
      "execution_count": 26,
      "outputs": [
        {
          "output_type": "stream",
          "text": [
            "my name is \"niranjana\"\n",
            "hello \n",
            "World\n",
            "hello \u0007World\n",
            "hello \bWorld\n"
          ],
          "name": "stdout"
        }
      ]
    },
    {
      "cell_type": "code",
      "metadata": {
        "id": "9NIZWjah-OWp",
        "colab_type": "code",
        "colab": {
          "base_uri": "https://localhost:8080/",
          "height": 34
        },
        "outputId": "db9f70a9-ed0a-4a81-edf7-470a41f160b5"
      },
      "source": [
        "a= \"      Hello World     \"\n",
        "print(a)"
      ],
      "execution_count": 27,
      "outputs": [
        {
          "output_type": "stream",
          "text": [
            "      Hello World     \n"
          ],
          "name": "stdout"
        }
      ]
    },
    {
      "cell_type": "code",
      "metadata": {
        "id": "Ffig9frK-Xu6",
        "colab_type": "code",
        "colab": {
          "base_uri": "https://localhost:8080/",
          "height": 138
        },
        "outputId": "6061ff51-085f-4f68-9756-9b4ef4ce020b"
      },
      "source": [
        "print(a.lower())\n",
        "print(a.upper())\n",
        "print(a.strip())\n",
        "print(len(a))\n",
        "print(len(a.strip()))\n",
        "print(a.count(\"o\"))\n",
        "print(a.replace(\"l\",\"zzzz\"))"
      ],
      "execution_count": 33,
      "outputs": [
        {
          "output_type": "stream",
          "text": [
            "      hello world     \n",
            "      HELLO WORLD     \n",
            "Hello World\n",
            "22\n",
            "11\n",
            "2\n",
            "      Hezzzzzzzzo Worzzzzd     \n"
          ],
          "name": "stdout"
        }
      ]
    },
    {
      "cell_type": "code",
      "metadata": {
        "id": "etw27Vu9_Asx",
        "colab_type": "code",
        "colab": {
          "base_uri": "https://localhost:8080/",
          "height": 86
        },
        "outputId": "daaffeea-bbd3-477e-8d6b-63baf1d04b27"
      },
      "source": [
        "print(a.split())\n",
        "print(\"l\" in a)\n",
        "print(\"hello\" in a)\n",
        "print(\"hello\" not in a)"
      ],
      "execution_count": 37,
      "outputs": [
        {
          "output_type": "stream",
          "text": [
            "['Hello', 'World']\n",
            "True\n",
            "False\n",
            "True\n"
          ],
          "name": "stdout"
        }
      ]
    },
    {
      "cell_type": "code",
      "metadata": {
        "id": "Wyz4I74T_tpp",
        "colab_type": "code",
        "colab": {}
      },
      "source": [
        ""
      ],
      "execution_count": 0,
      "outputs": []
    },
    {
      "cell_type": "code",
      "metadata": {
        "id": "l6e-aB_L_2jv",
        "colab_type": "code",
        "colab": {}
      },
      "source": [
        ""
      ],
      "execution_count": 0,
      "outputs": []
    }
  ]
}